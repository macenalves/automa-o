{
 "cells": [
  {
   "cell_type": "code",
   "execution_count": 127,
   "id": "ce66d2ad",
   "metadata": {},
   "outputs": [
    {
     "data": {
      "text/plain": [
       "<function pyautogui.click(x=None, y=None, clicks=1, interval=0.0, button='primary', duration=0.0, tween=<function linear at 0x0000014C6EE34550>, logScreenshot=None, _pause=True)>"
      ]
     },
     "execution_count": 127,
     "metadata": {},
     "output_type": "execute_result"
    }
   ],
   "source": [
    "import pyautogui\n",
    "import time\n",
    "\n",
    "#pyautogui.click\n",
    "#pyautogui.write\n",
    "#pyautogui.press\n",
    "#pyautogui.hotkey\n",
    "\n",
    "pyautogui.PAUSE=1\n",
    "#acessar o sistema da empresa\n",
    "pyautogui.hotkey(\"Ctrl\",\"t\")\n",
    "pyautogui.write(\"https://sites.google.com/view/raquelmacena/in%C3%ADcio\")\n",
    "pyautogui.press(\"enter\")\n",
    "time.sleep(5)\n",
    "\n",
    "#fazer login no sistema\n",
    "#abrir curriculo\n",
    "pyautogui.click(x=913, y=461)\n",
    "time.sleep(5)\n",
    "#download de curriculo\n",
    "pyautogui.click(x=1770, y=104, button=\"left\")\n",
    "time.sleep(3)\n",
    "#voltar tela inicial\n",
    "pyautogui.click(x=1633, y=17)\n",
    "time.sleep(1)\n",
    "#abrir whatsaap\n",
    "pyautogui.click(x=1423, y=445)\n",
    "pyautogui.click\n",
    "#pyautogui.write(\"acesseraquel@gmail.com\")\n",
    "\n",
    "#baixar a base de dados\n",
    "#calcular os indicadores\n",
    "#enviar o email para o chefe"
   ]
  },
  {
   "cell_type": "code",
   "execution_count": 125,
   "id": "a152a2b3",
   "metadata": {},
   "outputs": [
    {
     "data": {
      "text/html": [
       "<div>\n",
       "<style scoped>\n",
       "    .dataframe tbody tr th:only-of-type {\n",
       "        vertical-align: middle;\n",
       "    }\n",
       "\n",
       "    .dataframe tbody tr th {\n",
       "        vertical-align: top;\n",
       "    }\n",
       "\n",
       "    .dataframe thead th {\n",
       "        text-align: right;\n",
       "    }\n",
       "</style>\n",
       "<table border=\"1\" class=\"dataframe\">\n",
       "  <thead>\n",
       "    <tr style=\"text-align: right;\">\n",
       "      <th></th>\n",
       "      <th>transacao1</th>\n",
       "      <th>transacao2</th>\n",
       "    </tr>\n",
       "  </thead>\n",
       "  <tbody>\n",
       "    <tr>\n",
       "      <th>0</th>\n",
       "      <td>17.976473</td>\n",
       "      <td>5.038365</td>\n",
       "    </tr>\n",
       "    <tr>\n",
       "      <th>1</th>\n",
       "      <td>28.783271</td>\n",
       "      <td>37.672767</td>\n",
       "    </tr>\n",
       "    <tr>\n",
       "      <th>2</th>\n",
       "      <td>11.975249</td>\n",
       "      <td>-28.475939</td>\n",
       "    </tr>\n",
       "    <tr>\n",
       "      <th>3</th>\n",
       "      <td>15.911884</td>\n",
       "      <td>-10.197377</td>\n",
       "    </tr>\n",
       "    <tr>\n",
       "      <th>4</th>\n",
       "      <td>5.488446</td>\n",
       "      <td>8.752535</td>\n",
       "    </tr>\n",
       "    <tr>\n",
       "      <th>...</th>\n",
       "      <td>...</td>\n",
       "      <td>...</td>\n",
       "    </tr>\n",
       "    <tr>\n",
       "      <th>2520</th>\n",
       "      <td>-95.695457</td>\n",
       "      <td>65.316855</td>\n",
       "    </tr>\n",
       "    <tr>\n",
       "      <th>2521</th>\n",
       "      <td>-63.871037</td>\n",
       "      <td>2.836396</td>\n",
       "    </tr>\n",
       "    <tr>\n",
       "      <th>2522</th>\n",
       "      <td>-67.285177</td>\n",
       "      <td>-111.563031</td>\n",
       "    </tr>\n",
       "    <tr>\n",
       "      <th>2523</th>\n",
       "      <td>-146.212606</td>\n",
       "      <td>-132.583909</td>\n",
       "    </tr>\n",
       "    <tr>\n",
       "      <th>2524</th>\n",
       "      <td>-141.324343</td>\n",
       "      <td>181.989460</td>\n",
       "    </tr>\n",
       "  </tbody>\n",
       "</table>\n",
       "<p>2525 rows × 2 columns</p>\n",
       "</div>"
      ],
      "text/plain": [
       "      transacao1  transacao2\n",
       "0      17.976473    5.038365\n",
       "1      28.783271   37.672767\n",
       "2      11.975249  -28.475939\n",
       "3      15.911884  -10.197377\n",
       "4       5.488446    8.752535\n",
       "...          ...         ...\n",
       "2520  -95.695457   65.316855\n",
       "2521  -63.871037    2.836396\n",
       "2522  -67.285177 -111.563031\n",
       "2523 -146.212606 -132.583909\n",
       "2524 -141.324343  181.989460\n",
       "\n",
       "[2525 rows x 2 columns]"
      ]
     },
     "metadata": {},
     "output_type": "display_data"
    }
   ],
   "source": [
    "import pandas\n",
    "#importar base de dados\n",
    "tabela = pandas.read_csv(r\"C:\\Users\\RMQAlves\\Documents\\17\\novos_dados.csv\") \n",
    "display(tabela)\n"
   ]
  },
  {
   "cell_type": "code",
   "execution_count": null,
   "id": "39b26cbc",
   "metadata": {},
   "outputs": [],
   "source": []
  },
  {
   "cell_type": "code",
   "execution_count": 103,
   "id": "6eb47cdf",
   "metadata": {},
   "outputs": [
    {
     "name": "stdout",
     "output_type": "stream",
     "text": [
      "Requirement already satisfied: pyautogui in c:\\users\\rmqalves\\anaconda3\\lib\\site-packages (0.9.53)\n",
      "Requirement already satisfied: pymsgbox in c:\\users\\rmqalves\\anaconda3\\lib\\site-packages (from pyautogui) (1.0.9)\n",
      "Requirement already satisfied: mouseinfo in c:\\users\\rmqalves\\anaconda3\\lib\\site-packages (from pyautogui) (0.1.3)\n",
      "Requirement already satisfied: PyTweening>=1.0.1 in c:\\users\\rmqalves\\anaconda3\\lib\\site-packages (from pyautogui) (1.0.7)\n",
      "Requirement already satisfied: pyscreeze>=0.1.21 in c:\\users\\rmqalves\\anaconda3\\lib\\site-packages (from pyautogui) (0.1.28)\n",
      "Requirement already satisfied: pygetwindow>=0.0.5 in c:\\users\\rmqalves\\anaconda3\\lib\\site-packages (from pyautogui) (0.0.9)\n",
      "Requirement already satisfied: pyrect in c:\\users\\rmqalves\\anaconda3\\lib\\site-packages (from pygetwindow>=0.0.5->pyautogui) (0.2.0)\n",
      "Requirement already satisfied: pyperclip in c:\\users\\rmqalves\\anaconda3\\lib\\site-packages (from mouseinfo->pyautogui) (1.8.2)\n"
     ]
    }
   ],
   "source": [
    "!pip install pyautogui"
   ]
  },
  {
   "cell_type": "code",
   "execution_count": 98,
   "id": "dcba1e4b",
   "metadata": {},
   "outputs": [
    {
     "name": "stdout",
     "output_type": "stream",
     "text": [
      "Point(x=1770, y=104)\n"
     ]
    }
   ],
   "source": [
    "time.sleep(5)\n",
    "print(pyautogui.position())\n",
    "\n"
   ]
  },
  {
   "cell_type": "code",
   "execution_count": null,
   "id": "af78a2ae",
   "metadata": {},
   "outputs": [],
   "source": []
  }
 ],
 "metadata": {
  "kernelspec": {
   "display_name": "Python 3 (ipykernel)",
   "language": "python",
   "name": "python3"
  },
  "language_info": {
   "codemirror_mode": {
    "name": "ipython",
    "version": 3
   },
   "file_extension": ".py",
   "mimetype": "text/x-python",
   "name": "python",
   "nbconvert_exporter": "python",
   "pygments_lexer": "ipython3",
   "version": "3.9.13"
  }
 },
 "nbformat": 4,
 "nbformat_minor": 5
}
